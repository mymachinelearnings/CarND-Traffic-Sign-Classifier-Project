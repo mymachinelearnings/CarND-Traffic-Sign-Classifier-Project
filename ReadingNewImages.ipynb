{
 "cells": [
  {
   "cell_type": "code",
   "execution_count": 43,
   "metadata": {},
   "outputs": [
    {
     "name": "stdout",
     "output_type": "stream",
     "text": [
      "label 1 text Speed limit (30km/h)\n",
      "label 22 text Bumpy road\n",
      "label 35 text Ahead only\n",
      "label 15 text No vehicles\n",
      "label 37 text Go straight or left\n",
      "label 18 text General caution\n",
      "inside\n"
     ]
    }
   ],
   "source": [
    "import glob\n",
    "import cv2\n",
    "import numpy as np\n",
    "import csv\n",
    "\n",
    "my_images = sorted(glob.glob('./data/ImagesFromNet/*.png'))\n",
    "my_labels = np.array([1, 22, 35, 15, 37, 18])\n",
    "\n",
    "def readcsv(file):\n",
    "    with open(file) as csvfile:\n",
    "        reader = csv.DictReader(csvfile)\n",
    "        label_dict = {row['ClassId']:row['SignName'] for row in reader}\n",
    "        return label_dict\n",
    "\n",
    "def plot_figures(figures, nrows = 1, ncols=1, labels=None):\n",
    "    print('inside')\n",
    "    fig, axs = plt.subplots(ncols=ncols, nrows=nrows, figsize=(12, 14))\n",
    "    axs = axs.ravel()\n",
    "    for index, title in zip(range(len(figures)), figures):\n",
    "        axs[index].imshow(figures[title], plt.gray())\n",
    "        if(labels != None):\n",
    "            axs[index].set_title(labels[index])\n",
    "        else:\n",
    "            axs[index].set_title(title)\n",
    "            \n",
    "        axs[index].set_axis_off()\n",
    "    plt.tight_layout()\n",
    "\n",
    "label_dict = readcsv('signnames.csv')\n",
    "#print(label_dict)\n",
    "\n",
    "figures = {}\n",
    "labels = {}\n",
    "my_signs = []\n",
    "index = 0\n",
    "for my_image in my_images:\n",
    "    img = cv2.cvtColor(cv2.imread(my_image), cv2.COLOR_BGR2RGB)\n",
    "    my_signs.append(img)\n",
    "    figures[index] = img\n",
    "    current_label = my_labels[index]\n",
    "    current_label_name = label_dict[repr(current_label)]\n",
    "    print('label {} text {}'.format(current_label, current_label_name))\n",
    "    labels[index] = current_label_name\n",
    "    index += 1\n",
    "plot_figures(figures, 3, 2, labels)"
   ]
  },
  {
   "cell_type": "code",
   "execution_count": null,
   "metadata": {
    "collapsed": true
   },
   "outputs": [],
   "source": []
  }
 ],
 "metadata": {
  "kernelspec": {
   "display_name": "Python 3",
   "language": "python",
   "name": "python3"
  },
  "language_info": {
   "codemirror_mode": {
    "name": "ipython",
    "version": 3
   },
   "file_extension": ".py",
   "mimetype": "text/x-python",
   "name": "python",
   "nbconvert_exporter": "python",
   "pygments_lexer": "ipython3",
   "version": "3.5.5"
  },
  "widgets": {
   "state": {},
   "version": "1.1.2"
  }
 },
 "nbformat": 4,
 "nbformat_minor": 2
}

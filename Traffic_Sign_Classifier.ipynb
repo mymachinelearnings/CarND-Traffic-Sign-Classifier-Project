{
 "cells": [
  {
   "cell_type": "markdown",
   "metadata": {},
   "source": [
    "# Self-Driving Car Engineer Nanodegree\n",
    "\n",
    "## Deep Learning\n",
    "\n",
    "## Project: Build a Traffic Sign Recognition Classifier"
   ]
  },
  {
   "cell_type": "markdown",
   "metadata": {},
   "source": [
    "---\n",
    "## Step 0: Some Pre-requisites"
   ]
  },
  {
   "cell_type": "markdown",
   "metadata": {},
   "source": [
    "#### Import libraries"
   ]
  },
  {
   "cell_type": "code",
   "execution_count": 2,
   "metadata": {},
   "outputs": [
    {
     "name": "stdout",
     "output_type": "stream",
     "text": [
      "imports finished\n"
     ]
    }
   ],
   "source": [
    "import numpy as np\n",
    "import tensorflow as tf\n",
    "import matplotlib.pyplot as plt\n",
    "import csv\n",
    "from sklearn.utils import shuffle\n",
    "import matplotlib.pyplot as plt\n",
    "import pickle\n",
    "import random\n",
    "import cv2\n",
    "import time\n",
    "\n",
    "%matplotlib inline\n",
    "print('imports finished')"
   ]
  },
  {
   "cell_type": "markdown",
   "metadata": {},
   "source": [
    "## Step 1: Loading & preparing the data\n",
    "\n",
    "The pickled data is a dictionary with 4 key/value pairs:\n",
    "\n",
    "- `'features'` is a 4D array containing raw pixel data of the traffic sign images, (num examples, width, height, channels).\n",
    "- `'labels'` is a 1D array containing the label/class id of the traffic sign. The file `signnames.csv` contains id -> name mappings for each id.\n",
    "- `'sizes'` is a list containing tuples, (width, height) representing the original width and height the image.\n",
    "- `'coords'` is a list containing tuples, (x1, y1, x2, y2) representing coordinates of a bounding box around the sign in the image. **THESE COORDINATES ASSUME THE ORIGINAL IMAGE. THE PICKLED DATA CONTAINS RESIZED VERSIONS (32 by 32) OF THESE IMAGES**"
   ]
  },
  {
   "cell_type": "code",
   "execution_count": 3,
   "metadata": {
    "collapsed": true
   },
   "outputs": [],
   "source": [
    "# Load pickled data\n",
    "# Pickle is used to serialize the data so that it can be saved to a disk\n",
    "\n",
    "training_file = './data/train.p'\n",
    "validation_file = './data/valid.p'\n",
    "testing_file = './data/test.p'\n",
    "\n",
    "with open(training_file, mode='rb') as f:\n",
    "    train = pickle.load(f)\n",
    "with open(validation_file, mode='rb') as f:\n",
    "    valid = pickle.load(f)\n",
    "\n",
    "#Each pickled dataset is a dictionary of 4 keys\n",
    "#dict_keys(['sizes', 'labels', 'features', 'coords'])\n",
    "#print(train.keys())\n",
    "\n",
    "X_train, y_train = train['features'], train['labels']\n",
    "X_valid, y_valid = valid['features'], valid['labels']"
   ]
  },
  {
   "cell_type": "code",
   "execution_count": 4,
   "metadata": {
    "collapsed": true
   },
   "outputs": [],
   "source": [
    "#Initializations\n",
    "\n",
    "#Check if the Number of labels are same as number of input images\n",
    "assert(len(X_train) == len(y_train))\n",
    "n_train = len(X_train)\n",
    "\n",
    "assert(len(X_valid) == len(y_valid))\n",
    "n_valid = len(X_valid)\n",
    "\n",
    "# Image Shape\n",
    "image_shape = X_train[0].shape\n",
    "#print(image_shape)\n",
    "\n",
    "# Number of classes / labels\n",
    "n_classes = len(np.unique(y_train))"
   ]
  },
  {
   "cell_type": "markdown",
   "metadata": {},
   "source": [
    "#### Lable Names "
   ]
  },
  {
   "cell_type": "code",
   "execution_count": 5,
   "metadata": {
    "collapsed": true
   },
   "outputs": [],
   "source": [
    "def readcsv(file):\n",
    "    with open(file) as csvfile:\n",
    "        reader = csv.DictReader(csvfile)\n",
    "        label_dict = {row['ClassId']:row['SignName'] for row in reader}\n",
    "        return label_dict\n",
    "\n",
    "count, label = np.unique(y_train, return_counts=True)\n",
    "label_dict = readcsv('signnames.csv')\n",
    "\n",
    "def get_label_name(label_no):\n",
    "    return label_dict[label_no]"
   ]
  },
  {
   "cell_type": "markdown",
   "metadata": {},
   "source": [
    "#### Image Pre-processing\n",
    "As part of this step, each image is processed in the following sequence\n",
    "- Images in Training set are in order, so to get better results and prevent overfitting, shuffle the dataset. Shuffling should be done for both Images & labels in sync.\n",
    "- Gray Scale Conversion : Modifying the images to Gray scale will reduce the computational requirements\n",
    "- CLAHE : This is called Adaptive Histogram Equalization which enhances the contrast of an image which helps for easy detection\n",
    "- Normalize : Image normalization makes sure the data is zero-centered so that the gradient descent works effectively\n",
    "After the pre-processing, the images are assinged back to the same variables"
   ]
  },
  {
   "cell_type": "code",
   "execution_count": 6,
   "metadata": {
    "collapsed": true
   },
   "outputs": [],
   "source": [
    "def grayscale(img_set):\n",
    "    gray_img_set = []\n",
    "    for img in img_set:\n",
    "            gray_img_set.append(cv2.cvtColor(img, cv2.COLOR_RGB2GRAY))\n",
    "    return gray_img_set\n",
    "\n",
    "\n",
    "#Perform histogram equalization using CLAHE algorithm on grayscale images\n",
    "def clahe_equalize(img_set):\n",
    "    clahe_img_set = []\n",
    "    clahe = cv2.createCLAHE(clipLimit=2.0, tileGridSize=(4,4))\n",
    "    for img in img_set:\n",
    "        clahe_img = np.expand_dims(clahe.apply(img), axis = 2)\n",
    "        clahe_img_set.append(clahe_img)\n",
    "    return clahe_img_set\n",
    "\n",
    "def normalize(img_set):\n",
    "    norm_img_set = []\n",
    "    for img in img_set:\n",
    "        norm_img_set.append((img - 127.5)/127.5)\n",
    "    return norm_img_set"
   ]
  },
  {
   "cell_type": "code",
   "execution_count": 7,
   "metadata": {
    "collapsed": true
   },
   "outputs": [],
   "source": [
    "X_train_shuffle, y_train_shuffle = shuffle(X_train, y_train)\n",
    "X_train_gry = grayscale(X_train_shuffle)\n",
    "X_train_clahe = clahe_equalize(X_train_gry)\n",
    "X_train_shuffle_normalized = normalize(X_train_clahe)\n",
    "X_train, y_train = X_train_shuffle_normalized, y_train_shuffle\n",
    "\n",
    "X_valid_shuffle, y_valid_shuffle = shuffle(X_valid, y_valid)\n",
    "X_valid_gry = grayscale(X_valid_shuffle)\n",
    "X_valid_clahe = clahe_equalize(X_valid_gry)\n",
    "X_valid_shuffle_normalized = normalize(X_valid_clahe)\n",
    "X_valid, y_valid = X_valid_shuffle_normalized, y_valid_shuffle"
   ]
  },
  {
   "cell_type": "code",
   "execution_count": 8,
   "metadata": {
    "collapsed": true
   },
   "outputs": [],
   "source": [
    "#This snippet reads the label names from the csv file. Labels in the data set are numbers, and this file has the corresponding names\n",
    "label, count = np.unique(y_train_shuffle, return_counts=True)\n",
    "#print('count',count)\n",
    "label_dict_shuffle = readcsv('signnames.csv')\n",
    "#print('\\nLabels vs Count to ensure this pair doesn\\'t change post shuffling\\n')\n",
    "count_var = []\n",
    "for i, j in zip(count, label):\n",
    "    #print('{} :: {}'.format(label_dict_shuffle[repr(j)], i))\n",
    "    count_var.append(i)"
   ]
  },
  {
   "cell_type": "markdown",
   "metadata": {},
   "source": [
    "#### Histogram representation of the training set"
   ]
  },
  {
   "cell_type": "code",
   "execution_count": 9,
   "metadata": {},
   "outputs": [
    {
     "data": {
      "image/png": "[encoded data removed]",
      "text/plain": [
       "<Figure size 432x288 with 1 Axes>"
      ]
     },
     "metadata": {},
     "output_type": "display_data"
    }
   ],
   "source": [
    "#Histogram display for original training set\n",
    "hist, bins = np.histogram(y_train, bins=n_classes)\n",
    "width = 0.7 * (bins[1] - bins[0])\n",
    "center = (bins[:-1] + bins[1:]) /2\n",
    "plt.bar(center, hist, align='center', width=width)\n",
    "plt.show()"
   ]
  },
  {
   "cell_type": "markdown",
   "metadata": {},
   "source": [
    "#### Data Augmentation\n",
    "It is clear from the above histogram representation that some of the image classes has very small training set, and for the model to work effectively, data augmentation is done by duplicating the data set to have more number of images for each class\n",
    "\n",
    "In this snippet, we ensure each class has atleast 800 Images in t"
   ]
  },
  {
   "cell_type": "code",
   "execution_count": 9,
   "metadata": {},
   "outputs": [
    {
     "name": "stdout",
     "output_type": "stream",
     "text": [
      "Before Augmentation 34799\n",
      "0 : |----|----|----|----|----|----|----|----|----|----|----|----|-\n",
      "1 : \n",
      "2 : \n",
      "3 : \n",
      "4 : \n",
      "5 : \n",
      "6 : |----|----|----|----|----|----|----|----|---\n",
      "7 : \n",
      "8 : \n",
      "9 : \n",
      "10 : \n",
      "11 : \n",
      "12 : \n",
      "13 : \n",
      "14 : |----|----|\n",
      "15 : |----|----|----|----|----|\n",
      "16 : |----|----|----|----|----|----|----|----|---\n",
      "17 : \n",
      "18 : \n",
      "19 : |----|----|----|----|----|----|----|----|----|----|----|----|-\n",
      "20 : |----|----|----|----|----|----|----|----|----|----\n",
      "21 : |----|----|----|----|----|----|----|----|----|----|--\n",
      "22 : |----|----|----|----|----|----|----|----|----|-\n",
      "23 : |----|----|----|----|----|----|----\n",
      "24 : |----|----|----|----|----|----|----|----|----|----|----|\n",
      "25 : \n",
      "26 : |----|----|----|----|----|\n",
      "27 : |----|----|----|----|----|----|----|----|----|----|----|---\n",
      "28 : |----|----|----|----|----|----|-\n",
      "29 : |----|----|----|----|----|----|----|----|----|----|----|\n",
      "30 : |----|----|----|----|----|----|----|----|\n",
      "31 : |----|----|\n",
      "32 : |----|----|----|----|----|----|----|----|----|----|----|---\n",
      "33 : |----|----|----|----|\n",
      "34 : |----|----|----|----|----|----|----|----|---\n",
      "35 : \n",
      "36 : |----|----|----|----|----|----|----|----|----|-\n",
      "37 : |----|----|----|----|----|----|----|----|----|----|----|----|-\n",
      "38 : \n",
      "39 : |----|----|----|----|----|----|----|----|----|----|--\n",
      "40 : |----|----|----|----|----|----|----|----|----|----\n",
      "41 : |----|----|----|----|----|----|----|----|----|----|----|---\n",
      "42 : |----|----|----|----|----|----|----|----|----|----|----|---\n",
      "After Augmentation 46480\n"
     ]
    }
   ],
   "source": [
    "print('Before Augmentation', len(X_train))\n",
    "\n",
    "#Data Augmentation\n",
    "#print('X, y shapes:', X_train.shape, y_train.shape)\n",
    "\n",
    "input_indices = []\n",
    "output_indices = []\n",
    "\n",
    "for class_n in range(n_classes):\n",
    "    print(class_n, ': ', end='')\n",
    "    class_indices = np.where(y_train == class_n) #This returns a tuple 0:array([  127,   259,   330 ...], dtype=int64), hence later we get only [0] element from this tuple\n",
    "    n_samples = len(class_indices[0])\n",
    "    if n_samples < 800:\n",
    "        for i in range(800 - n_samples):\n",
    "            input_indices.append(class_indices[0][i%n_samples])\n",
    "            output_indices.append(len(X_train))\n",
    "            new_img = X_train[class_indices[0][i % n_samples]]\n",
    "            #new_img = random_translate(random_scaling(random_warp(random_brightness(new_img))))\n",
    "            X_train = np.concatenate((X_train, [new_img]), axis=0)\n",
    "            y_train = np.concatenate((y_train, [class_n]), axis=0)\n",
    "            if i % 50 == 0:\n",
    "                print('|', end='')\n",
    "            elif i % 10 == 0:\n",
    "                print('-',end='')\n",
    "    print('')\n",
    "            \n",
    "print('After Augmentation', len(X_train))"
   ]
  },
  {
   "cell_type": "markdown",
   "metadata": {},
   "source": [
    "#### Histogram representation of the training data set - After Augmentation"
   ]
  },
  {
   "cell_type": "code",
   "execution_count": 10,
   "metadata": {},
   "outputs": [
    {
     "data": {
      "image/png": "[encoded data removed]",
      "text/plain": [
       "<Figure size 432x288 with 1 Axes>"
      ]
     },
     "metadata": {},
     "output_type": "display_data"
    }
   ],
   "source": [
    "#Histogram display\n",
    "hist, bins = np.histogram(y_train, bins=n_classes)\n",
    "width = 0.7 * (bins[1] - bins[0])\n",
    "center = (bins[:-1] + bins[1:]) /2\n",
    "plt.bar(center, hist, align='center', width=width)\n",
    "plt.show()"
   ]
  },
  {
   "cell_type": "markdown",
   "metadata": {},
   "source": [
    "### Include an exploratory visualization of the dataset"
   ]
  },
  {
   "cell_type": "markdown",
   "metadata": {},
   "source": [
    "Visualize the German Traffic Signs Dataset using the pickled file(s). This is open ended, suggestions include: plotting traffic sign images, plotting the count of each sign, etc. \n",
    "\n",
    "The [Matplotlib](http://matplotlib.org/) [examples](http://matplotlib.org/examples/index.html) and [gallery](http://matplotlib.org/gallery.html) pages are a great resource for doing visualizations in Python.\n",
    "\n",
    "**NOTE:** It's recommended you start with something simple first. If you wish to do more, come back to it after you've completed the rest of the sections. It can be interesting to look at the distribution of classes in the training, validation and test set. Is the distribution the same? Are there more examples of some classes than others?"
   ]
  },
  {
   "cell_type": "code",
   "execution_count": null,
   "metadata": {
    "collapsed": true
   },
   "outputs": [],
   "source": []
  },
  {
   "cell_type": "code",
   "execution_count": null,
   "metadata": {
    "collapsed": true
   },
   "outputs": [],
   "source": []
  },
  {
   "cell_type": "code",
   "execution_count": null,
   "metadata": {
    "collapsed": true
   },
   "outputs": [],
   "source": []
  },
  {
   "cell_type": "code",
   "execution_count": null,
   "metadata": {
    "collapsed": true
   },
   "outputs": [],
   "source": []
  },
  {
   "cell_type": "markdown",
   "metadata": {},
   "source": [
    "----\n",
    "\n",
    "## Step 2: Design and Test a Model Architecture\n",
    "\n",
    "Design and implement a deep learning model that learns to recognize traffic signs. Train and test your model on the [German Traffic Sign Dataset](http://benchmark.ini.rub.de/?section=gtsrb&subsection=dataset).\n",
    "\n",
    "The LeNet-5 implementation shown in the [classroom](https://classroom.udacity.com/nanodegrees/nd013/parts/fbf77062-5703-404e-b60c-95b78b2f3f9e/modules/6df7ae49-c61c-4bb2-a23e-6527e69209ec/lessons/601ae704-1035-4287-8b11-e2c2716217ad/concepts/d4aca031-508f-4e0b-b493-e7b706120f81) at the end of the CNN lesson is a solid starting point. You'll have to change the number of classes and possibly the preprocessing, but aside from that it's plug and play! \n",
    "\n",
    "With the LeNet-5 solution from the lecture, you should expect a validation set accuracy of about 0.89. To meet specifications, the validation set accuracy will need to be at least 0.93. It is possible to get an even higher accuracy, but 0.93 is the minimum for a successful project submission. \n",
    "\n",
    "There are various aspects to consider when thinking about this problem:\n",
    "\n",
    "- Neural network architecture (is the network over or underfitting?)\n",
    "- Play around preprocessing techniques (normalization, rgb to grayscale, etc)\n",
    "- Number of examples per label (some have more than others).\n",
    "- Generate fake data.\n",
    "\n",
    "Here is an example of a [published baseline model on this problem](http://yann.lecun.com/exdb/publis/pdf/sermanet-ijcnn-11.pdf). It's not required to be familiar with the approach used in the paper but, it's good practice to try to read papers like these."
   ]
  },
  {
   "cell_type": "markdown",
   "metadata": {},
   "source": [
    "### Neural Network Model\n",
    "This is based on LeNet Architecture by Yann LeCunn"
   ]
  },
  {
   "cell_type": "markdown",
   "metadata": {},
   "source": [
    "#### Constants for the training model"
   ]
  },
  {
   "cell_type": "code",
   "execution_count": 9,
   "metadata": {
    "collapsed": true
   },
   "outputs": [],
   "source": [
    "LEARN_RATE = 0.001\n",
    "BATCH_SIZE = 128\n",
    "EPOCHS = 60\n",
    "KEEP_PROB = 0.5"
   ]
  },
  {
   "cell_type": "code",
   "execution_count": 10,
   "metadata": {
    "collapsed": true
   },
   "outputs": [],
   "source": [
    "# Conv --> MaxPool --> Conv --> MaxPool --> FC1 --> FC2 --> o/p\n",
    "def NN_LeNet(inputs):\n",
    "    \"\"\"\n",
    "    LeNet Architecture\n",
    "    CN1 --> P1 --> CN2 --> P2 --> Flatten --> FC1 --> FC2 --> O/P\n",
    "    Each step after CN & FC follows by an activation layer\n",
    "    Here are the dimensions of LeNet\n",
    "\n",
    "    Input : 32, 32, 1 #Gray scale has 1 channel. If you are using color images, this has to be 3\n",
    "    Layer1 : CN1 Output : 28, 28, 6\n",
    "    Layer2 : P1 Output  : 14, 14, 6\n",
    "    Layer3 : CN2 Output : 10, 10, 16\n",
    "    Layer4 : P2 Output  : 5, 5, 32\n",
    "    Layer5 : FC1 Output : 120\n",
    "    Layer6 : FC2 Output : 84\n",
    "    Layer7 : Logits     : 43 #43 different classes in German Traffic Sign dataset\n",
    "    \"\"\"\n",
    "\n",
    "    #Defining weights, bias and outputs for each Layer\n",
    "    mu = 0 #Mean of the variables in the random distribution\n",
    "    sigma = 0.1 #Variance is 0.1\n",
    "    \n",
    "    #Layer1 - Convolution - Output Size : 28, 28, 6\n",
    "    #After conversion to Gray scale, the dimension size is 1 instead of 3 (RGB)\n",
    "    w_layer1 = tf.Variable(tf.truncated_normal(shape=(5, 5, 1, 6), mean=mu, stddev=sigma))\n",
    "    b_layer1 = tf.Variable(tf.zeros(6))\n",
    "    conv_layer1 = tf.nn.conv2d(inputs, w_layer1, strides=[1,1,1,1], padding='VALID') + b_layer1\n",
    "    act_layer1 = tf.nn.relu(conv_layer1)\n",
    "    #drop_layer1 = tf.nn.dropout(act_layer1, KEEP_PROB)\n",
    "\n",
    "    #Layer2 - Max Pooling - Output Size : 14, 14, 6\n",
    "    pool_layer2 = tf.nn.max_pool(act_layer1, ksize=[1, 2, 2, 1], strides=[1, 2, 2, 1], padding='VALID')\n",
    "\n",
    "    #Layer3 - Convolution - Output Size : 10, 10, 16 ==> 16 filters, size is (W + 2P - F)/S + 1\n",
    "    #Filters changed to 32 - deviating from LeNet architecture\n",
    "    w_layer3 = tf.Variable(tf.truncated_normal(shape=(5, 5, 6, 32), mean=mu, stddev=sigma))\n",
    "    b_layer3 = tf.Variable(tf.zeros(32))\n",
    "    conv_layer3 = tf.nn.conv2d(pool_layer2, w_layer3, strides=[1, 1, 1, 1], padding='VALID') + b_layer3\n",
    "    act_layer3 = tf.nn.relu(conv_layer3)\n",
    "    #drop_layer3 = tf.nn.dropout(act_layer3, KEEP_PROB)\n",
    "\n",
    "    #Layer4 - Max Pooling - Output Size : 5, 5, 16\n",
    "    pool_layer4 = tf.nn.max_pool(act_layer3, ksize=[1, 2, 2, 1], strides=[1, 2, 2, 1], padding='VALID')\n",
    "\n",
    "    #Flatenning as next layers are fully connected\n",
    "    flatten_vect = tf.contrib.layers.flatten(pool_layer4)\n",
    "\n",
    "    #Layer5 - Fully Connected - Output = 120. Input dimension would be 5*5*16 = 400\n",
    "    # Since the filters are 32 in earlier step, dimension would be 5*5*32 = 800\n",
    "    w_layer5 = tf.Variable(tf.random_normal(shape=(800, 120), mean=mu, stddev=sigma))\n",
    "    b_layer5 = tf.Variable(tf.zeros(120))\n",
    "    fc_layer5 = tf.matmul(flatten_vect, w_layer5) + b_layer5\n",
    "    act_layer5 = tf.nn.relu(fc_layer5)\n",
    "    drop_layer5 = tf.nn.dropout(act_layer5, KEEP_PROB)\n",
    "\n",
    "    #Layer6 - Fully Connected - Output = 84. Input dimension is 120\n",
    "    w_layer6 = tf.Variable(tf.random_normal(shape=(120, 84), mean=mu, stddev=sigma))\n",
    "    b_layer6 = tf.Variable(tf.zeros(84))\n",
    "    fc_layer6 = tf.matmul(drop_layer5, w_layer6) + b_layer6\n",
    "    act_layer6 = tf.nn.relu(fc_layer6)\n",
    "    drop_layer6 = tf.nn.dropout(act_layer6, KEEP_PROB)\n",
    "\n",
    "    #Layer7 - Logits - Output Size : 43 types of image classes in the input dataset\n",
    "    w_layer7 = tf.Variable(tf.random_normal(shape=(84, 43), mean=mu, stddev=sigma))\n",
    "    b_layer7 = tf.Variable(tf.zeros(43))\n",
    "    logits = tf.matmul(drop_layer6, w_layer7) + b_layer7\n",
    "    \n",
    "    return logits"
   ]
  },
  {
   "cell_type": "markdown",
   "metadata": {},
   "source": [
    "### Defining Input Variables\n",
    "This is for storing the individual batch features & labels\n",
    "The inputs will be fed at runtime from the batches made out of training data set\n",
    "\n",
    "Batchsize is None so that it can accept a batch of anysize later at runtime"
   ]
  },
  {
   "cell_type": "code",
   "execution_count": 11,
   "metadata": {
    "collapsed": true
   },
   "outputs": [],
   "source": [
    "#None is a placeholder which depends on the number of input images in the batch (k)\n",
    "#Observe that input data will be float, but labels will always be integers. Otherwise one hot doesn't work\n",
    "input_data = tf.placeholder(tf.float32, (None, 32, 32, 1))\n",
    "input_labels = tf.placeholder(tf.int32, (None))\n",
    "one_hot_labels = tf.one_hot(input_labels, 43)"
   ]
  },
  {
   "cell_type": "markdown",
   "metadata": {},
   "source": [
    "### Training Pipeline\n",
    "In this pipeline, we train the model by calculating the following\n",
    "Logits are calculated using the Neural Network\n",
    "Cross Entropy loss is the difference between the logits vector and ground truth(in the form of one hot encoded vector)\n",
    "Average over cross entropy of all the training images (of this batch)\n",
    "Minimize the loss using Adam Optimizer\n",
    "Using the loss determined, backprop and adjust weights\n",
    "\n",
    "THis results in a pipeline that can be used for training. But data has to be fed to this pipeline so that the NN can be trained"
   ]
  },
  {
   "cell_type": "code",
   "execution_count": 12,
   "metadata": {
    "collapsed": true
   },
   "outputs": [],
   "source": [
    "logits = NN_LeNet(input_data)\n",
    "cross_entropy = tf.nn.softmax_cross_entropy_with_logits(logits=logits, labels=one_hot_labels)\n",
    "loss = tf.reduce_mean(cross_entropy)\n",
    "optimizer = tf.train.AdamOptimizer(learning_rate=LEARN_RATE)\n",
    "training_operation = optimizer.minimize(loss)"
   ]
  },
  {
   "cell_type": "markdown",
   "metadata": {},
   "source": [
    "### Evaluating the Model\n",
    "In this cell, we evaluate the model by comparing the output of the model to the ground truth\n",
    "Correct Prediction is determined by comparing the logits output to the ground truth variables(in one-hot format)\n",
    "Then Accuracy of your model is measured by calculating the model's overall accuracy by calculating the individual accuracies\n",
    "Evaluate function takes complete input data, splits into batches to calculate the accuracy and finally combines it"
   ]
  },
  {
   "cell_type": "code",
   "execution_count": 13,
   "metadata": {
    "collapsed": true
   },
   "outputs": [],
   "source": [
    "correct_prediction = tf.equal(tf.argmax(logits, 1), tf.argmax(one_hot_labels, 1))\n",
    "accuracy = tf.reduce_mean(tf.cast(correct_prediction, tf.float32))\n",
    "\n",
    "def evaluate(x_data, y_data):\n",
    "    total_accuracy = 0\n",
    "    length_inputs = len(x_data)\n",
    "    sess = tf.get_default_session()\n",
    "    for offset in range(0, length_inputs, BATCH_SIZE):\n",
    "        batch_x, batch_y = x_data[offset:offset+BATCH_SIZE], y_data[offset:offset+BATCH_SIZE]\n",
    "        batch_accuracy = sess.run(accuracy, feed_dict={input_data:batch_x, input_labels:batch_y})\n",
    "        total_accuracy += (batch_accuracy * len(batch_x))\n",
    "    return total_accuracy / length_inputs"
   ]
  },
  {
   "cell_type": "markdown",
   "metadata": {},
   "source": [
    "### Train the Model\n",
    "In this cell, we train the model\n",
    "Shuffle the inputs so that your model is not dependent on the order of the inputs\n",
    "Use the training_operation which is defined in the 'Training Pipeline' to do a fwd/back pass and update the weights and biases\n",
    "\n",
    "\n",
    "A validation set can be used to assess how well the model is performing. A low accuracy on the training and validation\n",
    "sets imply underfitting. A high accuracy on the training set but low accuracy on the validation set implies overfitting.\n",
    "\n",
    "- Note : It is observed that having dropout layers only on fully connected layers yeilds more accuracy than to have the dropouts on COnvolution layers. The differece is about 1% as observed in about 10 different training cycles"
   ]
  },
  {
   "cell_type": "code",
   "execution_count": 14,
   "metadata": {
    "scrolled": true
   },
   "outputs": [
    {
     "name": "stdout",
     "output_type": "stream",
     "text": [
      "Training...\n",
      "EPOCH 1    Training Accuracy = 0.586 Validation Accuracy = 0.553\n",
      "EPOCH 2    Training Accuracy = 0.756 Validation Accuracy = 0.725\n",
      "EPOCH 3    Training Accuracy = 0.830 Validation Accuracy = 0.790\n",
      "EPOCH 4    Training Accuracy = 0.856 Validation Accuracy = 0.823\n",
      "EPOCH 5    Training Accuracy = 0.885 Validation Accuracy = 0.841\n",
      "EPOCH 6    Training Accuracy = 0.903 Validation Accuracy = 0.857\n",
      "EPOCH 7    Training Accuracy = 0.914 Validation Accuracy = 0.869\n",
      "EPOCH 8    Training Accuracy = 0.922 Validation Accuracy = 0.871\n",
      "EPOCH 9    Training Accuracy = 0.929 Validation Accuracy = 0.893\n",
      "EPOCH 10    Training Accuracy = 0.933 Validation Accuracy = 0.890\n",
      "EPOCH 11    Training Accuracy = 0.940 Validation Accuracy = 0.906\n",
      "EPOCH 12    Training Accuracy = 0.943 Validation Accuracy = 0.893\n",
      "EPOCH 13    Training Accuracy = 0.947 Validation Accuracy = 0.901\n",
      "EPOCH 14    Training Accuracy = 0.950 Validation Accuracy = 0.907\n",
      "EPOCH 15    Training Accuracy = 0.952 Validation Accuracy = 0.916\n",
      "EPOCH 16    Training Accuracy = 0.957 Validation Accuracy = 0.916\n",
      "EPOCH 17    Training Accuracy = 0.956 Validation Accuracy = 0.926\n",
      "EPOCH 18    Training Accuracy = 0.960 Validation Accuracy = 0.920\n",
      "EPOCH 19    Training Accuracy = 0.961 Validation Accuracy = 0.924\n",
      "EPOCH 20    Training Accuracy = 0.958 Validation Accuracy = 0.924\n",
      "EPOCH 21    Training Accuracy = 0.963 Validation Accuracy = 0.927\n",
      "EPOCH 22    Training Accuracy = 0.964 Validation Accuracy = 0.930\n",
      "EPOCH 23    Training Accuracy = 0.968 Validation Accuracy = 0.935\n",
      "EPOCH 24    Training Accuracy = 0.965 Validation Accuracy = 0.929\n",
      "EPOCH 25    Training Accuracy = 0.970 Validation Accuracy = 0.934\n",
      "EPOCH 26    Training Accuracy = 0.968 Validation Accuracy = 0.934\n",
      "EPOCH 27    Training Accuracy = 0.971 Validation Accuracy = 0.931\n",
      "EPOCH 28    Training Accuracy = 0.972 Validation Accuracy = 0.929\n",
      "EPOCH 29    Training Accuracy = 0.970 Validation Accuracy = 0.929\n",
      "EPOCH 30    Training Accuracy = 0.974 Validation Accuracy = 0.938\n",
      "EPOCH 31    Training Accuracy = 0.972 Validation Accuracy = 0.937\n",
      "EPOCH 32    Training Accuracy = 0.972 Validation Accuracy = 0.936\n",
      "EPOCH 33    Training Accuracy = 0.976 Validation Accuracy = 0.938\n",
      "EPOCH 34    Training Accuracy = 0.976 Validation Accuracy = 0.935\n",
      "EPOCH 35    Training Accuracy = 0.977 Validation Accuracy = 0.944\n",
      "EPOCH 36    Training Accuracy = 0.977 Validation Accuracy = 0.947\n",
      "EPOCH 37    Training Accuracy = 0.978 Validation Accuracy = 0.944\n",
      "EPOCH 38    Training Accuracy = 0.978 Validation Accuracy = 0.935\n",
      "EPOCH 39    Training Accuracy = 0.980 Validation Accuracy = 0.949\n",
      "EPOCH 40    Training Accuracy = 0.977 Validation Accuracy = 0.937\n",
      "EPOCH 41    Training Accuracy = 0.979 Validation Accuracy = 0.942\n",
      "EPOCH 42    Training Accuracy = 0.980 Validation Accuracy = 0.942\n",
      "EPOCH 43    Training Accuracy = 0.981 Validation Accuracy = 0.944\n",
      "EPOCH 44    Training Accuracy = 0.980 Validation Accuracy = 0.939\n",
      "EPOCH 45    Training Accuracy = 0.982 Validation Accuracy = 0.946\n",
      "EPOCH 46    Training Accuracy = 0.981 Validation Accuracy = 0.949\n",
      "EPOCH 47    Training Accuracy = 0.980 Validation Accuracy = 0.941\n",
      "EPOCH 48    Training Accuracy = 0.980 Validation Accuracy = 0.947\n",
      "EPOCH 49    Training Accuracy = 0.979 Validation Accuracy = 0.944\n",
      "EPOCH 50    Training Accuracy = 0.982 Validation Accuracy = 0.948\n",
      "EPOCH 51    Training Accuracy = 0.980 Validation Accuracy = 0.943\n",
      "EPOCH 52    Training Accuracy = 0.981 Validation Accuracy = 0.946\n",
      "EPOCH 53    Training Accuracy = 0.983 Validation Accuracy = 0.948\n",
      "EPOCH 54    Training Accuracy = 0.981 Validation Accuracy = 0.946\n",
      "EPOCH 55    Training Accuracy = 0.984 Validation Accuracy = 0.942\n",
      "EPOCH 56    Training Accuracy = 0.984 Validation Accuracy = 0.947\n",
      "EPOCH 57    Training Accuracy = 0.983 Validation Accuracy = 0.953\n",
      "EPOCH 58    Training Accuracy = 0.984 Validation Accuracy = 0.954\n",
      "EPOCH 59    Training Accuracy = 0.983 Validation Accuracy = 0.951\n",
      "EPOCH 60    Training Accuracy = 0.984 Validation Accuracy = 0.953\n",
      "Total time for training 184.219\n",
      "Model Saved to ./traffic_sign_model\n"
     ]
    },
    {
     "data": {
      "image/png": "[encoded data removed]",
      "text/plain": [
       "<Figure size 432x288 with 2 Axes>"
      ]
     },
     "metadata": {},
     "output_type": "display_data"
    }
   ],
   "source": [
    "model_file = './traffic_sign_model'\n",
    "\n",
    "with tf.Session() as sess:\n",
    "    sess.run(tf.global_variables_initializer())\n",
    "    num_total = len(X_train)\n",
    "    validation_accuracy_plot = []\n",
    "    train_accuracy_plot = []\n",
    "    print('Training...')\n",
    "    start_time = time.time()\n",
    "    \n",
    "    for i in range(EPOCHS):\n",
    "        X_train, y_train = shuffle(X_train, y_train)\n",
    "        for offset in range(0, num_total, BATCH_SIZE):\n",
    "            batch_x, batch_y = X_train[offset:offset+BATCH_SIZE], y_train[offset:offset+BATCH_SIZE]\n",
    "            sess.run(training_operation, feed_dict={input_data:batch_x, input_labels:batch_y})\n",
    "        \n",
    "        training_accuracy = evaluate(X_train, y_train)\n",
    "        validation_accuracy = evaluate(X_valid, y_valid)\n",
    "        print('EPOCH {}    Training Accuracy = {:.3f} Validation Accuracy = {:.3f}'.format(i+1, training_accuracy, validation_accuracy))\n",
    "        \n",
    "        train_accuracy_plot.append(training_accuracy)\n",
    "        validation_accuracy_plot.append(validation_accuracy)\n",
    "        \n",
    "    plt.figure(3)\n",
    "    plt.subplot(121)\n",
    "    plt.plot(train_accuracy_plot)\n",
    "    plt.title('Training Accuracy vs EPOCHS')\n",
    "    plt.subplot(122)\n",
    "    plt.plot(validation_accuracy_plot)\n",
    "    plt.title('Validation Accuracy vs EPOCHS')\n",
    "    try:\n",
    "        saver\n",
    "    except NameError:\n",
    "        saver = tf.train.Saver()\n",
    "    saver.save(sess, model_file)\n",
    "    \n",
    "    print('Total time for training {:.3f}'.format(time.time() - start_time))\n",
    "    print('Model Saved to', model_file)\n",
    "    "
   ]
  },
  {
   "cell_type": "markdown",
   "metadata": {},
   "source": [
    "#### Evaluating the model with Test set"
   ]
  },
  {
   "cell_type": "code",
   "execution_count": 15,
   "metadata": {},
   "outputs": [
    {
     "name": "stdout",
     "output_type": "stream",
     "text": [
      "Length of Test Set 12630\n"
     ]
    }
   ],
   "source": [
    "testing_file = './data/test.p'\n",
    "\n",
    "with open(testing_file, mode='rb') as f:\n",
    "    test = pickle.load(f)\n",
    "\n",
    "#Each pickled dataset is a dictionary of 4 keys\n",
    "#dict_keys(['sizes', 'labels', 'features', 'coords'])\n",
    "#print(test.keys())\n",
    "X_test, y_test = test['features'], test['labels']\n",
    "print('Length of Test Set {}'.format(len(X_test)))\n",
    "#Same pre-processing as the training set\n",
    "X_test_shuffle, y_test_shuffle = shuffle(X_test, y_test)\n",
    "X_test_gry = grayscale(X_test_shuffle)\n",
    "X_test_clahe = clahe_equalize(X_test_gry)\n",
    "X_test_shuffle_normalized = normalize(X_test_clahe)\n",
    "X_test, y_test = X_test_shuffle_normalized, y_test_shuffle"
   ]
  },
  {
   "cell_type": "code",
   "execution_count": 21,
   "metadata": {},
   "outputs": [
    {
     "name": "stdout",
     "output_type": "stream",
     "text": [
      "Test Set Accuracy = 0.935\n"
     ]
    }
   ],
   "source": [
    "with tf.Session() as sess:\n",
    "    sess.run(tf.global_variables_initializer())\n",
    "    saver2 = tf.train.import_meta_graph('./traffic_sign_model.meta')\n",
    "    saver2.restore(sess, './traffic_sign_model') \n",
    "    test_accuracy = evaluate(X_test, y_test)\n",
    "    print('Test Set Accuracy = {:.3f}'.format(test_accuracy))"
   ]
  },
  {
   "cell_type": "markdown",
   "metadata": {},
   "source": [
    "#### Accuracy on the test set - which was never seen by the model is 93.5%"
   ]
  },
  {
   "cell_type": "markdown",
   "metadata": {},
   "source": [
    "---\n",
    "\n",
    "## Step 3: Test a Model on New Images\n",
    "\n",
    "- 6 random images are downloaded from internet in 32x32 color images. Hence this is of the same dimensions as our training set\n",
    "- Ground truth for these labels are defined by looking at the images and assigning them values by looking at the `signatures.csv`"
   ]
  },
  {
   "cell_type": "markdown",
   "metadata": {},
   "source": [
    "### Load and Output the Images"
   ]
  },
  {
   "cell_type": "code",
   "execution_count": null,
   "metadata": {
    "collapsed": true
   },
   "outputs": [],
   "source": [
    "import glob\n",
    "import matplotlib.image as mpimg\n",
    "\n",
    "fig, axs = plt.subplots(2,4, figsize=(4, 2))\n",
    "fig.subplots_adjust(hspace = .2, wspace=.001)\n",
    "axs = axs.ravel()\n",
    "\n",
    "my_images = []\n",
    "\n",
    "for i, img in enumerate(glob.glob('./data/ImagesFromNet/*.png')):\n",
    "    image = cv2.imread(img)\n",
    "    cv2.imshow(image, cv2.COLOR_BGR2RGB)\n",
    "#     axs[i].axis('off')\n",
    "#     axs[i].imshow(cv2.cvtColor(image, cv2.COLOR_BGR2RGB))\n",
    "    my_images.append(image)\n",
    "\n",
    "my_images = np.asarray(my_images)\n",
    "\n",
    "# my_images_gry = np.sum(my_images/3, axis=3, keepdims=True)\n",
    "\n",
    "# my_images_normalized = (my_images_gry - 128)/128 \n",
    "\n",
    "print(my_images.shape)"
   ]
  },
  {
   "cell_type": "markdown",
   "metadata": {},
   "source": [
    "### Predict the Sign Type for Each Image"
   ]
  },
  {
   "cell_type": "code",
   "execution_count": 3,
   "metadata": {
    "collapsed": true
   },
   "outputs": [],
   "source": [
    "### Run the predictions here and use the model to output the prediction for each image.\n",
    "### Make sure to pre-process the images with the same pre-processing pipeline used earlier.\n",
    "### Feel free to use as many code cells as needed."
   ]
  },
  {
   "cell_type": "markdown",
   "metadata": {},
   "source": [
    "### Analyze Performance"
   ]
  },
  {
   "cell_type": "code",
   "execution_count": 4,
   "metadata": {
    "collapsed": true
   },
   "outputs": [],
   "source": [
    "### Calculate the accuracy for these 5 new images. \n",
    "### For example, if the model predicted 1 out of 5 signs correctly, it's 20% accurate on these new images."
   ]
  },
  {
   "cell_type": "markdown",
   "metadata": {},
   "source": [
    "### Output Top 5 Softmax Probabilities For Each Image Found on the Web"
   ]
  },
  {
   "cell_type": "markdown",
   "metadata": {},
   "source": [
    "For each of the new images, print out the model's softmax probabilities to show the **certainty** of the model's predictions (limit the output to the top 5 probabilities for each image). [`tf.nn.top_k`](https://www.tensorflow.org/versions/r0.12/api_docs/python/nn.html#top_k) could prove helpful here. \n",
    "\n",
    "The example below demonstrates how tf.nn.top_k can be used to find the top k predictions for each image.\n",
    "\n",
    "`tf.nn.top_k` will return the values and indices (class ids) of the top k predictions. So if k=3, for each sign, it'll return the 3 largest probabilities (out of a possible 43) and the correspoding class ids.\n",
    "\n",
    "Take this numpy array as an example. The values in the array represent predictions. The array contains softmax probabilities for five candidate images with six possible classes. `tf.nn.top_k` is used to choose the three classes with the highest probability:\n",
    "\n",
    "```\n",
    "# (5, 6) array\n",
    "a = np.array([[ 0.24879643,  0.07032244,  0.12641572,  0.34763842,  0.07893497,\n",
    "         0.12789202],\n",
    "       [ 0.28086119,  0.27569815,  0.08594638,  0.0178669 ,  0.18063401,\n",
    "         0.15899337],\n",
    "       [ 0.26076848,  0.23664738,  0.08020603,  0.07001922,  0.1134371 ,\n",
    "         0.23892179],\n",
    "       [ 0.11943333,  0.29198961,  0.02605103,  0.26234032,  0.1351348 ,\n",
    "         0.16505091],\n",
    "       [ 0.09561176,  0.34396535,  0.0643941 ,  0.16240774,  0.24206137,\n",
    "         0.09155967]])\n",
    "```\n",
    "\n",
    "Running it through `sess.run(tf.nn.top_k(tf.constant(a), k=3))` produces:\n",
    "\n",
    "```\n",
    "TopKV2(values=array([[ 0.34763842,  0.24879643,  0.12789202],\n",
    "       [ 0.28086119,  0.27569815,  0.18063401],\n",
    "       [ 0.26076848,  0.23892179,  0.23664738],\n",
    "       [ 0.29198961,  0.26234032,  0.16505091],\n",
    "       [ 0.34396535,  0.24206137,  0.16240774]]), indices=array([[3, 0, 5],\n",
    "       [0, 1, 4],\n",
    "       [0, 5, 1],\n",
    "       [1, 3, 5],\n",
    "       [1, 4, 3]], dtype=int32))\n",
    "```\n",
    "\n",
    "Looking just at the first row we get `[ 0.34763842,  0.24879643,  0.12789202]`, you can confirm these are the 3 largest probabilities in `a`. You'll also notice `[3, 0, 5]` are the corresponding indices."
   ]
  },
  {
   "cell_type": "code",
   "execution_count": 3,
   "metadata": {
    "collapsed": true
   },
   "outputs": [],
   "source": [
    "### Print out the top five softmax probabilities for the predictions on the German traffic sign images found on the web. \n",
    "### Feel free to use as many code cells as needed."
   ]
  },
  {
   "cell_type": "markdown",
   "metadata": {},
   "source": [
    "### Project Writeup\n",
    "\n",
    "Once you have completed the code implementation, document your results in a project writeup using this [template](https://github.com/udacity/CarND-Traffic-Sign-Classifier-Project/blob/master/writeup_template.md) as a guide. The writeup can be in a markdown or pdf file. "
   ]
  },
  {
   "cell_type": "markdown",
   "metadata": {},
   "source": [
    "> **Note**: Once you have completed all of the code implementations and successfully answered each question above, you may finalize your work by exporting the iPython Notebook as an HTML document. You can do this by using the menu above and navigating to  \\n\",\n",
    "    \"**File -> Download as -> HTML (.html)**. Include the finished document along with this notebook as your submission."
   ]
  },
  {
   "cell_type": "markdown",
   "metadata": {},
   "source": [
    "---\n",
    "\n",
    "## Step 4 (Optional): Visualize the Neural Network's State with Test Images\n",
    "\n",
    " This Section is not required to complete but acts as an additional excersise for understaning the output of a neural network's weights. While neural networks can be a great learning device they are often referred to as a black box. We can understand what the weights of a neural network look like better by plotting their feature maps. After successfully training your neural network you can see what it's feature maps look like by plotting the output of the network's weight layers in response to a test stimuli image. From these plotted feature maps, it's possible to see what characteristics of an image the network finds interesting. For a sign, maybe the inner network feature maps react with high activation to the sign's boundary outline or to the contrast in the sign's painted symbol.\n",
    "\n",
    " Provided for you below is the function code that allows you to get the visualization output of any tensorflow weight layer you want. The inputs to the function should be a stimuli image, one used during training or a new one you provided, and then the tensorflow variable name that represents the layer's state during the training process, for instance if you wanted to see what the [LeNet lab's](https://classroom.udacity.com/nanodegrees/nd013/parts/fbf77062-5703-404e-b60c-95b78b2f3f9e/modules/6df7ae49-c61c-4bb2-a23e-6527e69209ec/lessons/601ae704-1035-4287-8b11-e2c2716217ad/concepts/d4aca031-508f-4e0b-b493-e7b706120f81) feature maps looked like for it's second convolutional layer you could enter conv2 as the tf_activation variable.\n",
    "\n",
    "For an example of what feature map outputs look like, check out NVIDIA's results in their paper [End-to-End Deep Learning for Self-Driving Cars](https://devblogs.nvidia.com/parallelforall/deep-learning-self-driving-cars/) in the section Visualization of internal CNN State. NVIDIA was able to show that their network's inner weights had high activations to road boundary lines by comparing feature maps from an image with a clear path to one without. Try experimenting with a similar test to show that your trained network's weights are looking for interesting features, whether it's looking at differences in feature maps from images with or without a sign, or even what feature maps look like in a trained network vs a completely untrained one on the same sign image.\n",
    "\n",
    "<figure>\n",
    " <img src=\"visualize_cnn.png\" width=\"380\" alt=\"Combined Image\" />\n",
    " <figcaption>\n",
    " <p></p> \n",
    " <p style=\"text-align: center;\"> Your output should look something like this (above)</p> \n",
    " </figcaption>\n",
    "</figure>\n",
    " <p></p> \n"
   ]
  },
  {
   "cell_type": "code",
   "execution_count": null,
   "metadata": {
    "collapsed": true
   },
   "outputs": [],
   "source": [
    "### Visualize your network's feature maps here.\n",
    "### Feel free to use as many code cells as needed.\n",
    "\n",
    "# image_input: the test image being fed into the network to produce the feature maps\n",
    "# tf_activation: should be a tf variable name used during your training procedure that represents the calculated state of a specific weight layer\n",
    "# activation_min/max: can be used to view the activation contrast in more detail, by default matplot sets min and max to the actual min and max values of the output\n",
    "# plt_num: used to plot out multiple different weight feature map sets on the same block, just extend the plt number for each new feature map entry\n",
    "\n",
    "def outputFeatureMap(image_input, tf_activation, activation_min=-1, activation_max=-1 ,plt_num=1):\n",
    "    # Here make sure to preprocess your image_input in a way your network expects\n",
    "    # with size, normalization, ect if needed\n",
    "    # image_input =\n",
    "    # Note: x should be the same name as your network's tensorflow data placeholder variable\n",
    "    # If you get an error tf_activation is not defined it may be having trouble accessing the variable from inside a function\n",
    "    activation = tf_activation.eval(session=sess,feed_dict={x : image_input})\n",
    "    featuremaps = activation.shape[3]\n",
    "    plt.figure(plt_num, figsize=(15,15))\n",
    "    for featuremap in range(featuremaps):\n",
    "        plt.subplot(6,8, featuremap+1) # sets the number of feature maps to show on each row and column\n",
    "        plt.title('FeatureMap ' + str(featuremap)) # displays the feature map number\n",
    "        if activation_min != -1 & activation_max != -1:\n",
    "            plt.imshow(activation[0,:,:, featuremap], interpolation=\"nearest\", vmin =activation_min, vmax=activation_max, cmap=\"gray\")\n",
    "        elif activation_max != -1:\n",
    "            plt.imshow(activation[0,:,:, featuremap], interpolation=\"nearest\", vmax=activation_max, cmap=\"gray\")\n",
    "        elif activation_min !=-1:\n",
    "            plt.imshow(activation[0,:,:, featuremap], interpolation=\"nearest\", vmin=activation_min, cmap=\"gray\")\n",
    "        else:\n",
    "            plt.imshow(activation[0,:,:, featuremap], interpolation=\"nearest\", cmap=\"gray\")"
   ]
  }
 ],
 "metadata": {
  "anaconda-cloud": {},
  "kernelspec": {
   "display_name": "Python 3",
   "language": "python",
   "name": "python3"
  },
  "language_info": {
   "codemirror_mode": {
    "name": "ipython",
    "version": 3
   },
   "file_extension": ".py",
   "mimetype": "text/x-python",
   "name": "python",
   "nbconvert_exporter": "python",
   "pygments_lexer": "ipython3",
   "version": "3.5.5"
  },
  "widgets": {
   "state": {},
   "version": "1.1.2"
  }
 },
 "nbformat": 4,
 "nbformat_minor": 1
}
